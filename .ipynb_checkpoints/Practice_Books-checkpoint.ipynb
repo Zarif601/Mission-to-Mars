{
 "cells": [
  {
   "cell_type": "code",
   "execution_count": 1,
   "id": "62b3dc59",
   "metadata": {},
   "outputs": [],
   "source": [
    "from splinter import Browser\n",
    "from bs4 import BeautifulSoup as soup\n",
    "from webdriver_manager.chrome import ChromeDriverManager"
   ]
  },
  {
   "cell_type": "code",
   "execution_count": 2,
   "id": "500e1f59",
   "metadata": {},
   "outputs": [
    {
     "name": "stderr",
     "output_type": "stream",
     "text": [
      "\n",
      "\n",
      "====== WebDriver manager ======\n",
      "Current google-chrome version is 100.0.4896\n",
      "Get LATEST chromedriver version for 100.0.4896 google-chrome\n",
      "Driver [C:\\Users\\Zarif\\.wdm\\drivers\\chromedriver\\win32\\100.0.4896.60\\chromedriver.exe] found in cache\n"
     ]
    }
   ],
   "source": [
    "# Set up Splinter\n",
    "executable_path = {'executable_path': ChromeDriverManager().install()}\n",
    "browser = Browser('chrome', **executable_path, headless = False)"
   ]
  },
  {
   "cell_type": "markdown",
   "id": "7a2a9bfb",
   "metadata": {},
   "source": [
    "# Books to scrape"
   ]
  },
  {
   "cell_type": "code",
   "execution_count": 3,
   "id": "6c7fe720",
   "metadata": {},
   "outputs": [],
   "source": [
    "# Visit the Books to Scrape site\n",
    "url = 'http://books.toscrape.com/'\n",
    "browser.visit(url)"
   ]
  },
  {
   "cell_type": "code",
   "execution_count": 4,
   "id": "6dae7059",
   "metadata": {},
   "outputs": [],
   "source": [
    "# Parse the HTML\n",
    "html = browser.html\n",
    "html_soup = soup(html, 'html.parser')"
   ]
  },
  {
   "cell_type": "code",
   "execution_count": 5,
   "id": "083635bb",
   "metadata": {},
   "outputs": [
    {
     "data": {
      "text/plain": [
       "['http://books.toscrape.com/catalogue/category/books/travel_2/index.html',\n",
       " 'http://books.toscrape.com/catalogue/category/books/mystery_3/index.html',\n",
       " 'http://books.toscrape.com/catalogue/category/books/historical-fiction_4/index.html',\n",
       " 'http://books.toscrape.com/catalogue/category/books/sequential-art_5/index.html',\n",
       " 'http://books.toscrape.com/catalogue/category/books/classics_6/index.html',\n",
       " 'http://books.toscrape.com/catalogue/category/books/philosophy_7/index.html',\n",
       " 'http://books.toscrape.com/catalogue/category/books/romance_8/index.html',\n",
       " 'http://books.toscrape.com/catalogue/category/books/womens-fiction_9/index.html',\n",
       " 'http://books.toscrape.com/catalogue/category/books/fiction_10/index.html',\n",
       " 'http://books.toscrape.com/catalogue/category/books/childrens_11/index.html',\n",
       " 'http://books.toscrape.com/catalogue/category/books/religion_12/index.html',\n",
       " 'http://books.toscrape.com/catalogue/category/books/nonfiction_13/index.html',\n",
       " 'http://books.toscrape.com/catalogue/category/books/music_14/index.html',\n",
       " 'http://books.toscrape.com/catalogue/category/books/default_15/index.html',\n",
       " 'http://books.toscrape.com/catalogue/category/books/science-fiction_16/index.html',\n",
       " 'http://books.toscrape.com/catalogue/category/books/sports-and-games_17/index.html',\n",
       " 'http://books.toscrape.com/catalogue/category/books/add-a-comment_18/index.html',\n",
       " 'http://books.toscrape.com/catalogue/category/books/fantasy_19/index.html',\n",
       " 'http://books.toscrape.com/catalogue/category/books/new-adult_20/index.html',\n",
       " 'http://books.toscrape.com/catalogue/category/books/young-adult_21/index.html',\n",
       " 'http://books.toscrape.com/catalogue/category/books/science_22/index.html',\n",
       " 'http://books.toscrape.com/catalogue/category/books/poetry_23/index.html',\n",
       " 'http://books.toscrape.com/catalogue/category/books/paranormal_24/index.html',\n",
       " 'http://books.toscrape.com/catalogue/category/books/art_25/index.html',\n",
       " 'http://books.toscrape.com/catalogue/category/books/psychology_26/index.html',\n",
       " 'http://books.toscrape.com/catalogue/category/books/autobiography_27/index.html',\n",
       " 'http://books.toscrape.com/catalogue/category/books/parenting_28/index.html',\n",
       " 'http://books.toscrape.com/catalogue/category/books/adult-fiction_29/index.html',\n",
       " 'http://books.toscrape.com/catalogue/category/books/humor_30/index.html',\n",
       " 'http://books.toscrape.com/catalogue/category/books/horror_31/index.html',\n",
       " 'http://books.toscrape.com/catalogue/category/books/history_32/index.html',\n",
       " 'http://books.toscrape.com/catalogue/category/books/food-and-drink_33/index.html',\n",
       " 'http://books.toscrape.com/catalogue/category/books/christian-fiction_34/index.html',\n",
       " 'http://books.toscrape.com/catalogue/category/books/business_35/index.html',\n",
       " 'http://books.toscrape.com/catalogue/category/books/biography_36/index.html',\n",
       " 'http://books.toscrape.com/catalogue/category/books/thriller_37/index.html',\n",
       " 'http://books.toscrape.com/catalogue/category/books/contemporary_38/index.html',\n",
       " 'http://books.toscrape.com/catalogue/category/books/spirituality_39/index.html',\n",
       " 'http://books.toscrape.com/catalogue/category/books/academic_40/index.html',\n",
       " 'http://books.toscrape.com/catalogue/category/books/self-help_41/index.html',\n",
       " 'http://books.toscrape.com/catalogue/category/books/historical_42/index.html',\n",
       " 'http://books.toscrape.com/catalogue/category/books/christian_43/index.html',\n",
       " 'http://books.toscrape.com/catalogue/category/books/suspense_44/index.html',\n",
       " 'http://books.toscrape.com/catalogue/category/books/short-stories_45/index.html',\n",
       " 'http://books.toscrape.com/catalogue/category/books/novels_46/index.html',\n",
       " 'http://books.toscrape.com/catalogue/category/books/health_47/index.html',\n",
       " 'http://books.toscrape.com/catalogue/category/books/politics_48/index.html',\n",
       " 'http://books.toscrape.com/catalogue/category/books/cultural_49/index.html',\n",
       " 'http://books.toscrape.com/catalogue/category/books/erotica_50/index.html',\n",
       " 'http://books.toscrape.com/catalogue/category/books/crime_51/index.html']"
      ]
     },
     "execution_count": 5,
     "metadata": {},
     "output_type": "execute_result"
    }
   ],
   "source": [
    "# Scrape the book url list\n",
    "sidebar = html_soup.find('ul', class_ = 'nav')\n",
    "genres = sidebar.find_all('li')\n",
    "url_list = []\n",
    "for genre in genres:\n",
    "    book_url = genre.find('a')['href']\n",
    "    url_list.append(book_url)\n",
    "books_url_list = [url + urls for urls in url_list]\n",
    "books_url_list[1:]"
   ]
  },
  {
   "cell_type": "code",
   "execution_count": 6,
   "id": "96ca71bf",
   "metadata": {},
   "outputs": [],
   "source": [
    "browser.quit()"
   ]
  }
 ],
 "metadata": {
  "kernelspec": {
   "display_name": "PythonData",
   "language": "python",
   "name": "pythondata"
  },
  "language_info": {
   "codemirror_mode": {
    "name": "ipython",
    "version": 3
   },
   "file_extension": ".py",
   "mimetype": "text/x-python",
   "name": "python",
   "nbconvert_exporter": "python",
   "pygments_lexer": "ipython3",
   "version": "3.9.7"
  }
 },
 "nbformat": 4,
 "nbformat_minor": 5
}
